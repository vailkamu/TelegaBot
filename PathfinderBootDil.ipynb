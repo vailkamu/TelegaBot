{
  "nbformat": 4,
  "nbformat_minor": 0,
  "metadata": {
    "colab": {
      "name": "PathfinderBoot",
      "provenance": [],
      "collapsed_sections": [],
      "include_colab_link": true
    },
    "kernelspec": {
      "name": "python3",
      "display_name": "Python 3"
    }
  },
  "cells": [
    {
      "cell_type": "markdown",
      "metadata": {
        "id": "view-in-github",
        "colab_type": "text"
      },
      "source": [
        "<a href=\"https://colab.research.google.com/github/vailkamu/TelegaBot/blob/master/PathfinderBootDil.ipynb\" target=\"_parent\"><img src=\"https://colab.research.google.com/assets/colab-badge.svg\" alt=\"Open In Colab\"/></a>"
      ]
    },
    {
      "cell_type": "code",
      "metadata": {
        "id": "0pIUmzvTwgyE",
        "colab_type": "code",
        "outputId": "4074cb3a-5b8f-403d-e516-df77a3dcd676",
        "colab": {
          "base_uri": "https://localhost:8080/",
          "height": 331
        }
      },
      "source": [
        "!pip3 install pyTelegramBotAPI\n",
        "# -*- coding: utf-8 -*-\n",
        "import telebot\n",
        "import random\n",
        "import re\n",
        "import string"
      ],
      "execution_count": 1,
      "outputs": [
        {
          "output_type": "stream",
          "text": [
            "Collecting pyTelegramBotAPI\n",
            "\u001b[?25l  Downloading https://files.pythonhosted.org/packages/25/5e/9711642455c4e17b1202d4f6403ede0fef37fc145038aee7193f3b24445e/pyTelegramBotAPI-3.6.6.tar.gz (49kB)\n",
            "\u001b[K     |████████████████████████████████| 51kB 3.4MB/s \n",
            "\u001b[?25hRequirement already satisfied: requests in /usr/local/lib/python3.6/dist-packages (from pyTelegramBotAPI) (2.21.0)\n",
            "Requirement already satisfied: six in /usr/local/lib/python3.6/dist-packages (from pyTelegramBotAPI) (1.12.0)\n",
            "Requirement already satisfied: urllib3<1.25,>=1.21.1 in /usr/local/lib/python3.6/dist-packages (from requests->pyTelegramBotAPI) (1.24.3)\n",
            "Requirement already satisfied: chardet<3.1.0,>=3.0.2 in /usr/local/lib/python3.6/dist-packages (from requests->pyTelegramBotAPI) (3.0.4)\n",
            "Requirement already satisfied: idna<2.9,>=2.5 in /usr/local/lib/python3.6/dist-packages (from requests->pyTelegramBotAPI) (2.8)\n",
            "Requirement already satisfied: certifi>=2017.4.17 in /usr/local/lib/python3.6/dist-packages (from requests->pyTelegramBotAPI) (2019.6.16)\n",
            "Building wheels for collected packages: pyTelegramBotAPI\n",
            "  Building wheel for pyTelegramBotAPI (setup.py) ... \u001b[?25l\u001b[?25hdone\n",
            "  Created wheel for pyTelegramBotAPI: filename=pyTelegramBotAPI-3.6.6-cp36-none-any.whl size=44856 sha256=c798e1275759f746b6cde891ae0890ecee266a6853724f7b5a815c332d5b4fba\n",
            "  Stored in directory: /root/.cache/pip/wheels/ae/69/d7/26f1fb04ac4d4c95bff643cea765a8e91c4348da25b4744e08\n",
            "Successfully built pyTelegramBotAPI\n",
            "Installing collected packages: pyTelegramBotAPI\n",
            "Successfully installed pyTelegramBotAPI-3.6.6\n"
          ],
          "name": "stdout"
        }
      ]
    },
    {
      "cell_type": "code",
      "metadata": {
        "id": "fHBGki27lAM9",
        "colab_type": "code",
        "colab": {}
      },
      "source": [
        "path_dam_bot = telebot.TeleBot(\"889723189:AAEzFr6a1AnA3cykQm4Dq1MS2RLdrp3cpJM\")\n",
        "\n",
        "@path_dam_bot.message_handler(commands=['roll'])#Функція roll\n",
        "def roll_dx (message):\n",
        "  mroll=[]\n",
        "  test=re.findall(r'[d]?\\[+-]d+', message.text)#Шукаєм запис типу d та число після нього, для перевірки на правильність запиту\n",
        "  if bool(test) == False:#Перевірка запиту\n",
        "    nd= list(map(int,re.findall(r'[+-]?\\d+', message.text)))#додає в масив nd всі числа включно з відємними\n",
        "    if nd[0] < 1:\n",
        "      path_dam_bot.send_message(message.chat.id, 'не коректну к-ть кидків замінено на 1')\n",
        "      nd[0]=1\n",
        "    if message.text[(message.text.find(' ')):(message.text.find('d')-1)] == \"\":#перевіряє на наявність числа(к-ті кидків)перед значенням кістки d  \n",
        "      nd.insert(0, 1)#додає 1 в масив nd при відсутності к-ті кидків кістки перед d \n",
        "    ###  \n",
        "    i=0\n",
        "    while i < nd[0]:   #створюєм цикл для генерації списку рандомних чисел n-ного розміру n = числу перед d в команді /roll що імітує повторне кидання кістки\n",
        "      nroll=random.randint(1,abs(nd[1]))#генерує рандомні числа від 1 до заданого командою /roll dчисло \n",
        "      mroll.append(nroll)#заповнення списку згенерованимим числами \n",
        "      i = i + 1  \n",
        "    ###\n",
        "    if len(nd)<3:\n",
        "      showresult=str(mroll)+' = '+str(sum(list(mroll)))# якщо було введено менше 3 елементів створюється список зі згенерованими е-ми та їх сумою\n",
        "      path_dam_bot.send_message(message.chat.id, str(showresult))#Відправлення повідомлення з результатом\n",
        "    else :\n",
        "      showresult='(' + str(mroll)+ ' + ' + str(nd[2:]) + ')' + ' = ' + str(sum(list(mroll+nd[2:])))#якщо в-но більше 3 е-ів додає до згенерованого маасиву введені е-ти\n",
        "      path_dam_bot.send_message(message.chat.id, str(showresult))#Відправлення повідомлення з результатом \n",
        "    ###    \n",
        "  else: \n",
        "    path_dam_bot.send_message(message.chat.id, 'не коректне введення')\n",
        "###\n",
        "path_dam_bot.polling()"
      ],
      "execution_count": 0,
      "outputs": []
    },
    {
      "cell_type": "code",
      "metadata": {
        "id": "fFjFcJ8gF3Z9",
        "colab_type": "code",
        "colab": {}
      },
      "source": [
        "###\n",
        "@path_dam_bot.message_handler(commands=['start'])\n",
        "def start_message (message):\n",
        "  starttext=\"\"\"  Щоб відкирити вікно вибору кістки введіть команду:/d\n",
        "Щоб кинути одну кістку декілька раз використовуйте команду:/roll\n",
        "Приклад використання команди /roll:\n",
        "   Команда: /roll 3d4 +5 \n",
        "   Оримане повідомлення: ([3, 4, 1] + [5]) = 13\n",
        "виведено результат кидання d4 3 рази і додано модифікатор + 5; \"\"\"\n",
        "  path_dam_bot.send_message(message.chat.id, starttext)\n",
        " ###\n",
        "\n",
        "@path_dam_bot.message_handler(commands=['d'])# При  введені команди /d виводить повідомлення та клавіатуру вибору кістки\n",
        "def start_message(message):#функція створює клавіатуру\n",
        "  keyboardrow = telebot.types.ReplyKeyboardMarkup(row_width=3, resize_keyboard=True, one_time_keyboard=True)#задали параметри клавіатурі 3 стовпці, авто підгін розмірів кнопок, прибирати клавіатуру після введення \n",
        "  keyboardrow.row('d4', 'd6', 'd8')#Задали перший ряд і варіанти кісток до нього \n",
        "  keyboardrow.row('d100', 'd12', 'd20')#Задали другий ряд і варіанти кісток до нього \n",
        "  path_dam_bot.send_message(message.chat.id, 'Оберіть яку кістку треба кинути !', reply_markup=keyboardrow)#Виводимо повідомлення і створенну клавіатуру\n",
        " ###\n",
        "@path_dam_bot.message_handler(regexp=\"^[d]\\d+\")#Пошук в тексті запиту типу d20 - вид кістки\n",
        "def dkost_roll (message):\n",
        "  strmass=list(map(int, re.findall('\\d+',message.text)))#записує знайдене число в масив\n",
        "  path_dam_bot.send_message(message.chat.id, str(random.randint(1,strmass[0])))#відправляєм згенероване число як результат кидання кістки\n",
        "###"
      ],
      "execution_count": 0,
      "outputs": []
    }
  ]
}