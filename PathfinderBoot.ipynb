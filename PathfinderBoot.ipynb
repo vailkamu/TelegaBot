{
  "nbformat": 4,
  "nbformat_minor": 0,
  "metadata": {
    "colab": {
      "name": "PathfinderBoot",
      "provenance": [],
      "collapsed_sections": [],
      "include_colab_link": true
    },
    "kernelspec": {
      "name": "python3",
      "display_name": "Python 3"
    }
  },
  "cells": [
    {
      "cell_type": "markdown",
      "metadata": {
        "id": "view-in-github",
        "colab_type": "text"
      },
      "source": [
        "<a href=\"https://colab.research.google.com/github/vailkamu/TelegaBot/blob/master/PathfinderBoot.ipynb\" target=\"_parent\"><img src=\"https://colab.research.google.com/assets/colab-badge.svg\" alt=\"Open In Colab\"/></a>"
      ]
    },
    {
      "cell_type": "markdown",
      "metadata": {
        "id": "508Tmm3zAWXD",
        "colab_type": "text"
      },
      "source": [
        "Бібліотека та файли для інсталяції\n"
      ]
    },
    {
      "cell_type": "code",
      "metadata": {
        "id": "0pIUmzvTwgyE",
        "colab_type": "code",
        "outputId": "f8570587-f09c-4e6e-962a-0d1e7c024c11",
        "colab": {
          "base_uri": "https://localhost:8080/",
          "height": 331
        }
      },
      "source": [
        "!pip3 install pyTelegramBotAPI\n",
        "# -*- coding: utf-8 -*-\n",
        "import telebot\n",
        "import random\n",
        "import re\n",
        "import string"
      ],
      "execution_count": 1,
      "outputs": [
        {
          "output_type": "stream",
          "text": [
            "Collecting pyTelegramBotAPI\n",
            "\u001b[?25l  Downloading https://files.pythonhosted.org/packages/25/5e/9711642455c4e17b1202d4f6403ede0fef37fc145038aee7193f3b24445e/pyTelegramBotAPI-3.6.6.tar.gz (49kB)\n",
            "\r\u001b[K     |██████▋                         | 10kB 17.6MB/s eta 0:00:01\r\u001b[K     |█████████████▏                  | 20kB 6.6MB/s eta 0:00:01\r\u001b[K     |███████████████████▉            | 30kB 9.2MB/s eta 0:00:01\r\u001b[K     |██████████████████████████▍     | 40kB 5.8MB/s eta 0:00:01\r\u001b[K     |████████████████████████████████| 51kB 3.6MB/s \n",
            "\u001b[?25hRequirement already satisfied: requests in /usr/local/lib/python3.6/dist-packages (from pyTelegramBotAPI) (2.21.0)\n",
            "Requirement already satisfied: six in /usr/local/lib/python3.6/dist-packages (from pyTelegramBotAPI) (1.12.0)\n",
            "Requirement already satisfied: urllib3<1.25,>=1.21.1 in /usr/local/lib/python3.6/dist-packages (from requests->pyTelegramBotAPI) (1.24.3)\n",
            "Requirement already satisfied: chardet<3.1.0,>=3.0.2 in /usr/local/lib/python3.6/dist-packages (from requests->pyTelegramBotAPI) (3.0.4)\n",
            "Requirement already satisfied: idna<2.9,>=2.5 in /usr/local/lib/python3.6/dist-packages (from requests->pyTelegramBotAPI) (2.8)\n",
            "Requirement already satisfied: certifi>=2017.4.17 in /usr/local/lib/python3.6/dist-packages (from requests->pyTelegramBotAPI) (2019.9.11)\n",
            "Building wheels for collected packages: pyTelegramBotAPI\n",
            "  Building wheel for pyTelegramBotAPI (setup.py) ... \u001b[?25l\u001b[?25hdone\n",
            "  Created wheel for pyTelegramBotAPI: filename=pyTelegramBotAPI-3.6.6-cp36-none-any.whl size=44856 sha256=9a38b82472eab5050c7be74a0ee255986b9d603af6dcae50546a55aadeba1302\n",
            "  Stored in directory: /root/.cache/pip/wheels/ae/69/d7/26f1fb04ac4d4c95bff643cea765a8e91c4348da25b4744e08\n",
            "Successfully built pyTelegramBotAPI\n",
            "Installing collected packages: pyTelegramBotAPI\n",
            "Successfully installed pyTelegramBotAPI-3.6.6\n"
          ],
          "name": "stdout"
        }
      ]
    },
    {
      "cell_type": "markdown",
      "metadata": {
        "id": "nvCD3ALuAgks",
        "colab_type": "text"
      },
      "source": [
        "Тіло коду \n"
      ]
    },
    {
      "cell_type": "code",
      "metadata": {
        "id": "fHBGki27lAM9",
        "colab_type": "code",
        "outputId": "3e201e26-43e2-4fea-ac52-1786df235a5e",
        "colab": {
          "base_uri": "https://localhost:8080/",
          "height": 349
        }
      },
      "source": [
        "path_dam_bot = telebot.TeleBot(\"889723189:AAEzFr6a1AnA3cykQm4Dq1MS2RLdrp3cpJM\")\n",
        "\n",
        "###\n",
        "@path_dam_bot.message_handler(commands=['start'])\n",
        "def start_message (message):\n",
        "  starttext=\"\"\"  Щоб відкирити вікно вибору кістки введіть команду:/d\n",
        "Щоб кинути одну кістку декілька раз використовуйте команду:/roll\n",
        "Приклад використання команди /roll:\n",
        "   Команда: /roll 3d4 +5 \n",
        "   Оримане повідомлення: ([3, 4, 1] + [5]) = 13\n",
        "виведено результат кидання d4 3 рази і додано модифікатор + 5; \"\"\"\n",
        "  path_dam_bot.send_message(message.chat.id, starttext)\n",
        " ###\n",
        "\n",
        "@path_dam_bot.message_handler(commands=['roll'])#Функція roll \n",
        "def roll_dx (message):\n",
        "  mroll=[]\n",
        "  startzition = message.text.find(' ');\n",
        "  finishpozition = message.text.find('d');\n",
        "  nd= list(map(int,re.findall(r'[+-]?\\d+', message.text)))#додає в масив nd всі числа включно з відємними\n",
        "###\n",
        "  if '-' not in message.text[startzition : finishpozition] and re.search('[a-zA-Z]', message.text[startzition : finishpozition]) is None and bool(nd) is True:\n",
        "    if nd[0] < 1:\n",
        "      path_dam_bot.send_message(message.chat.id, 'не коректну к-ть кидків замінено на 1')\n",
        "      nd[0]=1\n",
        "    if message.text[(message.text.find(' ')):(message.text.find('d')-1)] == \"\":#перевіряє на наявність числа(к-ті кидків)перед значенням кістки d  \n",
        "      nd.insert(0, 1)#додає 1 в масив nd при відсутності к-ті кидків кістки перед d \n",
        "    ###  \n",
        "    i=0\n",
        "    while i < nd[0]:   #створюєм цикл для генерації списку рандомних чисел n-ного розміру n = числу перед d в команді /roll що імітує повторне кидання кістки\n",
        "      nroll=random.randint(1,abs(nd[1]))#генерує рандомні числа від 1 до заданого командою /roll dчисло \n",
        "      mroll.append(nroll)#заповнення списку згенерованимим числами \n",
        "      i = i + 1  \n",
        "    ###\n",
        "    if len(nd)<3:\n",
        "      showresult=str(mroll)+' = '+str(sum(list(mroll)))# якщо було введено менше 3 елементів створюється список зі згенерованими е-ми та їх сумою\n",
        "      path_dam_bot.send_message(message.chat.id, str(showresult))#Відправлення повідомлення з результатом\n",
        "    else :\n",
        "      showresult='(' + str(mroll)+ ' + ' + str(nd[2:]) + ')' + ' = ' + str(sum(list(mroll+nd[2:])))#якщо в-но більше 3 е-ів додає до згенерованого маасиву введені е-ти\n",
        "      path_dam_bot.send_message(message.chat.id, str(showresult))#Відправлення повідомлення з результатом \n",
        "    ###    \n",
        "  else: \n",
        "    path_dam_bot.send_message(message.chat.id, 'не коректне введення')\n",
        "###\n",
        "@path_dam_bot.message_handler(commands=['d'])# При  введені команди /d виводить повідомлення та клавіатуру вибору кістки\n",
        "def start_message(message):#функція створює клавіатуру\n",
        "  keyboardrow = telebot.types.ReplyKeyboardMarkup(row_width=3, resize_keyboard=True, one_time_keyboard=True)#задали параметри клавіатурі 3 стовпці, авто підгін розмірів кнопок, прибирати клавіатуру після введення \n",
        "  keyboardrow.row('d4', 'd6', 'd8')#Задали перший ряд і варіанти кісток до нього \n",
        "  keyboardrow.row('d100', 'd12', 'd20')#Задали другий ряд і варіанти кісток до нього \n",
        "  path_dam_bot.send_message(message.chat.id, 'Оберіть яку кістку треба кинути !', reply_markup=keyboardrow)#Виводимо повідомлення і створенну клавіатуру\n",
        " ###\n",
        "@path_dam_bot.message_handler(regexp=\"^[d]\\d+\")#Пошук в тексті запиту типу d20 - вид кістки\n",
        "def dkost_roll (message):\n",
        "  strmass=list(map(int, re.findall('\\d+',message.text)))#записує знайдене число в масив\n",
        "  path_dam_bot.send_message(message.chat.id, str(random.randint(1,strmass[0])))#відправляєм згенероване число як результат кидання кістки\n",
        "###\n",
        "path_dam_bot.polling()"
      ],
      "execution_count": 6,
      "outputs": [
        {
          "output_type": "stream",
          "text": [
            "2019-11-06 10:09:56,274 (util.py:65 PollingThread) ERROR - TeleBot: \"ApiException occurred, args=('A request to the Telegram API was unsuccessful. The server returned HTTP 409 Conflict. Response body:\\n[b\\'{\"ok\":false,\"error_code\":409,\"description\":\"Conflict: terminated by other getUpdates request; make sure that only one bot instance is running\"}\\']',)\n",
            "Traceback (most recent call last):\n",
            "  File \"/usr/local/lib/python3.6/dist-packages/telebot/util.py\", line 59, in run\n",
            "    task(*args, **kwargs)\n",
            "  File \"/usr/local/lib/python3.6/dist-packages/telebot/__init__.py\", line 276, in __retrieve_updates\n",
            "    updates = self.get_updates(offset=(self.last_update_id + 1), timeout=timeout)\n",
            "  File \"/usr/local/lib/python3.6/dist-packages/telebot/__init__.py\", line 246, in get_updates\n",
            "    json_updates = apihelper.get_updates(self.token, offset, limit, timeout, allowed_updates)\n",
            "  File \"/usr/local/lib/python3.6/dist-packages/telebot/apihelper.py\", line 180, in get_updates\n",
            "    return _make_request(token, method_url, params=payload)\n",
            "  File \"/usr/local/lib/python3.6/dist-packages/telebot/apihelper.py\", line 56, in _make_request\n",
            "    return _check_result(method_name, result)['result']\n",
            "  File \"/usr/local/lib/python3.6/dist-packages/telebot/apihelper.py\", line 75, in _check_result\n",
            "    raise ApiException(msg, method_name, result)\n",
            "telebot.apihelper.ApiException: A request to the Telegram API was unsuccessful. The server returned HTTP 409 Conflict. Response body:\n",
            "[b'{\"ok\":false,\"error_code\":409,\"description\":\"Conflict: terminated by other getUpdates request; make sure that only one bot instance is running\"}']\n",
            "\"\n"
          ],
          "name": "stderr"
        }
      ]
    },
    {
      "cell_type": "markdown",
      "metadata": {
        "id": "s8HbqBiIAOrF",
        "colab_type": "text"
      },
      "source": [
        "Блокнотний відділ"
      ]
    },
    {
      "cell_type": "code",
      "metadata": {
        "colab_type": "code",
        "id": "IoH3weH0KsCf",
        "colab": {}
      },
      "source": [
        ""
      ],
      "execution_count": 0,
      "outputs": []
    }
  ]
}