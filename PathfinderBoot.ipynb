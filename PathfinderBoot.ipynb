{
  "nbformat": 4,
  "nbformat_minor": 0,
  "metadata": {
    "colab": {
      "name": "PathfinderBoot",
      "version": "0.3.2",
      "provenance": [],
      "collapsed_sections": [],
      "toc_visible": true
    },
    "kernelspec": {
      "name": "python3",
      "display_name": "Python 3"
    }
  },
  "cells": [
    {
      "cell_type": "code",
      "metadata": {
        "id": "0pIUmzvTwgyE",
        "colab_type": "code",
        "outputId": "6e766b49-5b79-4464-a470-263788d08301",
        "colab": {
          "base_uri": "https://localhost:8080/",
          "height": 166
        }
      },
      "source": [
        "!pip3 install pyTelegramBotAPI\n",
        "# -*- coding: utf-8 -*-\n",
        "import telebot\n",
        "import random\n",
        "import re\n",
        "import string\n",
        "path_dam_bot = telebot.TeleBot(\"****************************\")\n",
        "\n",
        "keyboardrow = telebot.types.ReplyKeyboardMarkup(row_width=3, resize_keyboard=True, one_time_keyboard=True)\n",
        "keyboardrow.row('d4', 'd6', 'd8')\n",
        "keyboardrow.row('d100', 'd12', 'd20')\n",
        "###\n",
        "@path_dam_bot.message_handler(commands=['start'])\n",
        "def start_message (message):\n",
        "  starttext=\"\"\"Щоб відкирити вікно вибору кістки введіть команду:/d\n",
        "Щоб кинути одну кістку декілька раз використовуйте команду:/roll\n",
        "Приклад використання команди /roll:\n",
        " Команда: /roll 3d4 +5 Оримане повідомлення: ([3, 4, 1] + [5]) = 13\n",
        "виведено результат кидання d4 3 рази і додано модифікатор + 5; \"\"\"\n",
        "  ###\n",
        "  path_dam_bot.send_message(message.chat.id, starttext)\n",
        "###\n",
        "@path_dam_bot.message_handler(commands=['roll'])\n",
        "def roll_dx (message):\n",
        "  mroll=[]\n",
        "  nd=list(map(int, re.findall('[+-]?\\d+', message.text)))#додає в масив nd всі числа включно з відємними\n",
        "  if message.text[message.text.find('d')-1].isdigit()==False:#перевіряє на наявність числа(к-ті кидків) перев значенням кістки d  \n",
        "    nd.insert(0, 1)#додає 1 в масив nd при відсутності к-ті кидків кістки перед d \n",
        "    ###      \n",
        "  i=0\n",
        "  while i < nd[0]:   #створюєм цикл для генерації масиву рандомних чисел n-ного розміру n = числу перед d в команді /roll що імітує повторне кидання кістки\n",
        "    nroll=random.randint(1,abs(nd[1]))#генерує рандомні числа від 1 до заданого командою /roll dчисло \n",
        "    mroll.append(nroll)#заповнення масиву згенерованимим числами \n",
        "    i = i + 1\n",
        "    ###\n",
        "  if len(nd)<3:\n",
        "    showresult=str(mroll)+' = '+str(sum(list(mroll)))# якщо було введено менше 3 елементів створюється список зі згенерованими е-ми та їх сумою\n",
        "    path_dam_bot.send_message(message.chat.id, str(showresult))#Відправлення повідомлення з результатом\n",
        "  else :\n",
        "    showresult='(' + str(mroll)+ ' + ' + str(nd[2:]) + ')' + ' = ' + str(sum(list(mroll+nd[2:])))#якщо в-но більше 3 е-ів додає до згенерованого маасиву введені е-ти\n",
        "    path_dam_bot.send_message(message.chat.id, str(showresult))#Відправлення повідомлення з результатом\n",
        "###\n",
        "@path_dam_bot.message_handler(commands=['d'])# При  введені команди /d виводить повідомлення та клавіатуру вибору кістки\n",
        "def start_message(message):\n",
        "    msg = path_dam_bot.send_message(message.chat.id, 'Оберіть яку кістку треба кинути !',\n",
        "                                   reply_markup=keyboardrow)\n",
        "###\n",
        "@path_dam_bot.message_handler(regexp=\"^[d]\\d+\")#Пошук в тексті запиту типу d20 - вид кістки\n",
        "def dkost_roll (message):\n",
        "  strmass=list(map(int, re.findall('\\d+',message.text)))#записує знайдене число в масив\n",
        "  path_dam_bot.send_message(message.chat.id, str(random.randint(1,strmass[0])))#відправляєм згенероване число як результат кидання кістки\n",
        "###\n",
        "path_dam_bot.polling()"
      ],
      "execution_count": 0,
      "outputs": [
        {
          "output_type": "stream",
          "text": [
            "Requirement already satisfied: pyTelegramBotAPI in /usr/local/lib/python3.6/dist-packages (3.6.6)\n",
            "Requirement already satisfied: requests in /usr/local/lib/python3.6/dist-packages (from pyTelegramBotAPI) (2.21.0)\n",
            "Requirement already satisfied: six in /usr/local/lib/python3.6/dist-packages (from pyTelegramBotAPI) (1.12.0)\n",
            "Requirement already satisfied: certifi>=2017.4.17 in /usr/local/lib/python3.6/dist-packages (from requests->pyTelegramBotAPI) (2019.6.16)\n",
            "Requirement already satisfied: chardet<3.1.0,>=3.0.2 in /usr/local/lib/python3.6/dist-packages (from requests->pyTelegramBotAPI) (3.0.4)\n",
            "Requirement already satisfied: urllib3<1.25,>=1.21.1 in /usr/local/lib/python3.6/dist-packages (from requests->pyTelegramBotAPI) (1.24.3)\n",
            "Requirement already satisfied: idna<2.9,>=2.5 in /usr/local/lib/python3.6/dist-packages (from requests->pyTelegramBotAPI) (2.8)\n"
          ],
          "name": "stdout"
        }
      ]
    }
  ]
}
