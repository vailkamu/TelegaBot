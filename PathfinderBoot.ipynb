{
  "nbformat": 4,
  "nbformat_minor": 0,
  "metadata": {
    "colab": {
      "name": "PathfinderBoot",
      "provenance": [],
      "collapsed_sections": [],
      "include_colab_link": true
    },
    "kernelspec": {
      "name": "python3",
      "display_name": "Python 3"
    }
  },
  "cells": [
    {
      "cell_type": "markdown",
      "metadata": {
        "id": "view-in-github",
        "colab_type": "text"
      },
      "source": [
        "<a href=\"https://colab.research.google.com/github/vailkamu/TelegaBot/blob/master/PathfinderBoot.ipynb\" target=\"_parent\"><img src=\"https://colab.research.google.com/assets/colab-badge.svg\" alt=\"Open In Colab\"/></a>"
      ]
    },
    {
      "cell_type": "code",
      "metadata": {
        "id": "0pIUmzvTwgyE",
        "colab_type": "code",
        "colab": {}
      },
      "source": [
        "#!pip3 install pyTelegramBotAPI\n",
        "# -*- coding: utf-8 -*-\n",
        "import telebot\n",
        "import random\n",
        "import re\n",
        "import string\n",
        "path_dam_bot = telebot.TeleBot(\"889723189:AAEzFr6a1AnA3cykQm4Dq1MS2RLdrp3cpJM\")\n",
        "###\n",
        "\n",
        "###\n",
        "@path_dam_bot.message_handler(commands=['start'])\n",
        "def start_message (message):\n",
        "  starttext=\"\"\" Щоб відкирити вікно вибору кістки введіть команду:/d\n",
        " Щоб кинути одну кістку декілька раз використовуйте команду:/roll\n",
        " Приклад використання команди /roll:\n",
        "  Команда: /roll 3d4 +5 Оримане повідомлення: ([3, 4, 1] + [5]) = 13\n",
        " виведено результат кидання d4 3 рази і додано модифікатор + 5; \"\"\"\n",
        "  ###\n",
        "  path_dam_bot.send_message(message.chat.id, starttext)\n",
        "###\n",
        "@path_dam_bot.message_handler(commands=['roll'])#Функція roll\n",
        "def roll_dx (message):\n",
        "  mroll=[]\n",
        "  test=re.findall(r'[d]\\d+', message.text)#Шукаєм запис типу d та число після нього, для перевірки на правильність запиту\n",
        "  if len(test) == True:#Перевірка запиту\n",
        "    nd=list(map(int, re.findall(r'[+-]?\\d+', message.text)))#додає в масив nd всі числа включно з відємними\n",
        "    path_dam_bot.send_message(message.chat.id, nd)\n",
        "    if message.text[(message.text.find('ll')+1):(message.text.find('d')-1)].isdigit()==True:#перевіряє на наявність числа(к-ті кидків)перед значенням кістки d  \n",
        "      nd.insert(0, 1)#додає 1 в масив nd при відсутності к-ті кидків кістки перед d \n",
        "      ###      \n",
        "    i=0\n",
        "    while i < nd[0]:   #створюєм цикл для генерації списку рандомних чисел n-ного розміру n = числу перед d в команді /roll що імітує повторне кидання кістки\n",
        "      nroll=random.randint(1,abs(nd[1]))#генерує рандомні числа від 1 до заданого командою /roll dчисло \n",
        "      mroll.append(nroll)#заповнення списку згенерованимим числами \n",
        "      i = i + 1  \n",
        "    ###\n",
        "    if len(nd)<3:\n",
        "      showresult=str(mroll)+' = '+str(sum(list(mroll)))# якщо було введено менше 3 елементів створюється список зі згенерованими е-ми та їх сумою\n",
        "      path_dam_bot.send_message(message.chat.id, str(showresult))#Відправлення повідомлення з результатом\n",
        "    else :\n",
        "      showresult='(' + str(mroll)+ ' + ' + str(nd[2:]) + ')' + ' = ' + str(sum(list(mroll+nd[2:])))#якщо в-но більше 3 е-ів додає до згенерованого маасиву введені е-ти\n",
        "      path_dam_bot.send_message(message.chat.id, str(showresult))#Відправлення повідомлення з результатом\n",
        "  else: \n",
        "    path_dam_bot.send_message(message.chat.id, 'не коректне введення')\n",
        "###\n",
        "@path_dam_bot.message_handler(commands=['d'])# При  введені команди /d виводить повідомлення та клавіатуру вибору кістки\n",
        "def start_message(message):\n",
        "  keyboardrow = telebot.types.ReplyKeyboardMarkup(row_width=3, resize_keyboard=True, one_time_keyboard=True)\n",
        "  keyboardrow.row('d4', 'd6', 'd8')\n",
        "  keyboardrow.row('d100', 'd12', 'd20')\n",
        "  msg = path_dam_bot.send_message(message.chat.id, 'Оберіть яку кістку треба кинути !', reply_markup=keyboardrow)\n",
        "###\n",
        "@path_dam_bot.message_handler(regexp=\"^[d]\\d+\")#Пошук в тексті запиту типу d20 - вид кістки\n",
        "def dkost_roll (message):\n",
        "  strmass=list(map(int, re.findall('\\d+',message.text)))#записує знайдене число в масив\n",
        "  path_dam_bot.send_message(message.chat.id, str(random.randint(1,strmass[0])))#відправляєм згенероване число як результат кидання кістки\n",
        "###\n",
        "path_dam_bot.polling()"
      ],
      "execution_count": 0,
      "outputs": []
    }
  ]
}